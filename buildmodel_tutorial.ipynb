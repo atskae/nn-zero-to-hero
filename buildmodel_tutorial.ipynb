{
 "cells": [
  {
   "cell_type": "markdown",
   "id": "71d19721-0068-4db2-86e6-13098689a76a",
   "metadata": {},
   "source": [
    "# [Build the Neural Network](https://pytorch.org/tutorials/beginner/basics/buildmodel_tutorial.html)\n",
    "`torch.nn` contains everything for building neural networks.\n",
    "A neural network layer is the same thing as a module?"
   ]
  },
  {
   "cell_type": "code",
   "execution_count": 1,
   "id": "48ba0485-ede4-429a-b43f-352fbc888843",
   "metadata": {},
   "outputs": [
    {
     "name": "stderr",
     "output_type": "stream",
     "text": [
      "/Users/atsukoshimizu/atskae/nn-zero-to-hero/.venv/lib/python3.9/site-packages/urllib3/__init__.py:35: NotOpenSSLWarning: urllib3 v2 only supports OpenSSL 1.1.1+, currently the 'ssl' module is compiled with 'LibreSSL 2.8.3'. See: https://github.com/urllib3/urllib3/issues/3020\n",
      "  warnings.warn(\n"
     ]
    }
   ],
   "source": [
    "import os\n",
    "import torch\n",
    "from torch import nn\n",
    "from torch.utils.data import DataLoader\n",
    "from torchvision import datasets, transforms"
   ]
  },
  {
   "cell_type": "markdown",
   "id": "c14c6726-3566-4265-b83a-bf0f1ee4d31c",
   "metadata": {},
   "source": [
    "## Check Device for Training\n",
    "For information on [MPS](https://pytorch.org/docs/stable/notes/mps.html)"
   ]
  },
  {
   "cell_type": "code",
   "execution_count": 4,
   "id": "f572a1a0-2822-48e6-91c4-3fb6c57a7a95",
   "metadata": {},
   "outputs": [
    {
     "name": "stdout",
     "output_type": "stream",
     "text": [
      "device mps\n"
     ]
    }
   ],
   "source": [
    "# Check if a hardware accelerator is available\n",
    "# MPS (Metal Performance Shaders framework) enables using the GPU on MacOS devices using the Metal programming framework!\n",
    "device = (\n",
    "    \"cuda\"\n",
    "    if torch.cuda.is_available()\n",
    "    else \"mps\"\n",
    "    if torch.backends.mps.is_available()\n",
    "    else \"cpu\"\n",
    ")\n",
    "print(\"device\", device)"
   ]
  },
  {
   "cell_type": "markdown",
   "id": "314cd89c-267d-41d7-a1b1-59fdb7f5ad7c",
   "metadata": {},
   "source": [
    "## Define the Class"
   ]
  },
  {
   "cell_type": "code",
   "execution_count": 10,
   "id": "dbd6912d-9c86-422d-bdd4-630598f42d26",
   "metadata": {},
   "outputs": [],
   "source": [
    "class NeuralNetwork(nn.Module):\n",
    "    def __init__(self):\n",
    "        super().__init__()\n",
    "        self.flatten = nn.Flatten()\n",
    "        self.linear_relu_stack = nn.Sequential(\n",
    "            nn.Linear(28*28, 512),\n",
    "            nn.ReLU(),\n",
    "            nn.Linear(512, 512),\n",
    "            nn.ReLU(),\n",
    "            nn.Linear(512, 10)\n",
    "        )\n",
    "\n",
    "    # Operation on input data\n",
    "    # Never call this directly!\n",
    "    def forward(self, x):\n",
    "        x = self.flatten(x)\n",
    "        logits = self.linear_relu_stack(x)\n",
    "        return logits"
   ]
  },
  {
   "cell_type": "code",
   "execution_count": 12,
   "id": "710c621b-b907-481a-b1d5-4b492d0e0625",
   "metadata": {},
   "outputs": [
    {
     "name": "stdout",
     "output_type": "stream",
     "text": [
      "NeuralNetwork(\n",
      "  (flatten): Flatten(start_dim=1, end_dim=-1)\n",
      "  (linear_relu_stack): Sequential(\n",
      "    (0): Linear(in_features=784, out_features=512, bias=True)\n",
      "    (1): ReLU()\n",
      "    (2): Linear(in_features=512, out_features=512, bias=True)\n",
      "    (3): ReLU()\n",
      "    (4): Linear(in_features=512, out_features=10, bias=True)\n",
      "  )\n",
      ")\n",
      "model type <class '__main__.NeuralNetwork'>\n"
     ]
    }
   ],
   "source": [
    "# Create an instance of the NeuralNetwork class and move it to the device\n",
    "model = NeuralNetwork().to(device)\n",
    "print(model)\n",
    "print(\"model type\", type(model))"
   ]
  },
  {
   "cell_type": "code",
   "execution_count": 18,
   "id": "e88ea218-14c9-404f-a80f-317371d6c352",
   "metadata": {},
   "outputs": [
    {
     "name": "stdout",
     "output_type": "stream",
     "text": [
      "logits raw tensor([[ 0.0048,  0.0831,  0.0521, -0.0356, -0.0202, -0.0151,  0.0107, -0.0544,\n",
      "          0.0689, -0.0345]], device='mps:0', grad_fn=<LinearBackward0>)\n",
      "logits type <class 'torch.Tensor'>\n",
      "logits size torch.Size([1, 10])\n"
     ]
    }
   ],
   "source": [
    "X = torch.rand(1, 28, 28, device=device)\n",
    "# `model` represents the main function in NeuralNetwork\n",
    "# This internally calls the model's `forward` function, which should never be called directly\n",
    "# Returns a 2-dimensional tensor, the values represent the predicted values of each label\n",
    "logits = model(X)\n",
    "print(\"logits raw\", logits)\n",
    "print(\"logits type\", type(logits))\n",
    "print(\"logits size\", logits.size())"
   ]
  },
  {
   "cell_type": "code",
   "execution_count": 19,
   "id": "25575e04-a4e5-4fc2-a777-4d41421e0291",
   "metadata": {},
   "outputs": [
    {
     "name": "stdout",
     "output_type": "stream",
     "text": [
      "Predicted class: tensor([1], device='mps:0')\n"
     ]
    }
   ],
   "source": [
    "# Converts the raw values into a probability distribution\n",
    "pred_probab = nn.Softmax(dim=1)(logits)\n",
    "# Obtain the value with highest probability\n",
    "y_pred = pred_probab.argmax(1)\n",
    "print(f\"Predicted class: {y_pred}\")"
   ]
  },
  {
   "cell_type": "markdown",
   "id": "736e581b-7c4b-411f-ad75-7bc20cfe9c69",
   "metadata": {},
   "source": [
    "## Model Layers"
   ]
  },
  {
   "cell_type": "code",
   "execution_count": 21,
   "id": "594f64eb-7b72-4b68-a5ec-ef3c06698433",
   "metadata": {},
   "outputs": [
    {
     "name": "stdout",
     "output_type": "stream",
     "text": [
      "input_image size torch.Size([3, 28, 28])\n"
     ]
    }
   ],
   "source": [
    "# Represents a sample mini-batch of 3 images, each with size 28x28\n",
    "input_image = torch.rand(3, 28, 28)\n",
    "print(\"input_image size\", input_image.size())"
   ]
  },
  {
   "cell_type": "markdown",
   "id": "1579cc86-db52-46eb-8d02-697e7c346d31",
   "metadata": {},
   "source": [
    "### `nn.Flatten`\n",
    "`nn.Flatten` converts the 28x28 images into a contiguous array of 784 pixels"
   ]
  },
  {
   "cell_type": "code",
   "execution_count": 24,
   "id": "a18c623b-947d-4683-8151-9c17ece5260d",
   "metadata": {},
   "outputs": [
    {
     "name": "stdout",
     "output_type": "stream",
     "text": [
      "torch.Size([3, 784])\n"
     ]
    }
   ],
   "source": [
    "flatten = nn.Flatten()\n",
    "# By default, it flattens starting at dim=1\n",
    "flat_image = flatten(input_image)\n",
    "# The mini-batch size (dim=0) is maintained\n",
    "print(flat_image.size())"
   ]
  },
  {
   "cell_type": "code",
   "execution_count": null,
   "id": "0fb48a05-f573-4218-b081-ca55bf0e87db",
   "metadata": {},
   "outputs": [],
   "source": []
  }
 ],
 "metadata": {
  "kernelspec": {
   "display_name": "Python 3 (ipykernel)",
   "language": "python",
   "name": "python3"
  },
  "language_info": {
   "codemirror_mode": {
    "name": "ipython",
    "version": 3
   },
   "file_extension": ".py",
   "mimetype": "text/x-python",
   "name": "python",
   "nbconvert_exporter": "python",
   "pygments_lexer": "ipython3",
   "version": "3.9.6"
  }
 },
 "nbformat": 4,
 "nbformat_minor": 5
}
