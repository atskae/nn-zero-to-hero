{
 "cells": [
  {
   "cell_type": "markdown",
   "id": "e5269beb-af96-4d2e-ad5b-15eb28de4da1",
   "metadata": {},
   "source": [
    "# [Tensors](https://pytorch.org/tutorials/beginner/basics/tensor_tutorial.html)\n",
    "\n",
    "**Tensors** are like arrays and matrices. They encode inputs, outputs, and parameters of the model."
   ]
  },
  {
   "cell_type": "code",
   "execution_count": 1,
   "id": "2d0531d4-849c-464b-948a-af14b2c4c7e7",
   "metadata": {},
   "outputs": [],
   "source": [
    "import torch\n",
    "import numpy as np"
   ]
  },
  {
   "cell_type": "markdown",
   "id": "5280e078-55cf-4882-b3ff-c3e2084e46dc",
   "metadata": {},
   "source": [
    "We can create Tensor objects from Python and Numpy arrays"
   ]
  },
  {
   "cell_type": "code",
   "execution_count": 5,
   "id": "cfe6f5ad-3843-44be-a03c-80a446a5230d",
   "metadata": {},
   "outputs": [
    {
     "name": "stdout",
     "output_type": "stream",
     "text": [
      "data <class 'list'>\n",
      "x_data <class 'torch.Tensor'>\n"
     ]
    }
   ],
   "source": [
    "data = [\n",
    "    [1, 2],\n",
    "    [3, 4]\n",
    "]\n",
    "print(\"data\", type(data))\n",
    "x_data = torch.tensor(data)\n",
    "print(\"x_data\", type(x_data))"
   ]
  },
  {
   "cell_type": "code",
   "execution_count": 6,
   "id": "002a49c8-2a4e-4548-9335-bf03fcd74d44",
   "metadata": {},
   "outputs": [
    {
     "name": "stdout",
     "output_type": "stream",
     "text": [
      "np_array <class 'numpy.ndarray'>\n",
      "x_np <class 'torch.Tensor'>\n"
     ]
    }
   ],
   "source": [
    "np_array = np.array(data)\n",
    "print(\"np_array\", type(np_array))\n",
    "x_np = torch.from_numpy(np_array)\n",
    "print(\"x_np\", type(x_np))"
   ]
  },
  {
   "cell_type": "markdown",
   "id": "4bdf9dc0-6f52-4155-a219-34d671e3a0e4",
   "metadata": {},
   "source": [
    "We can create Tensors that retain the properties (shape, datatype) of the original Tensor. We can retain or override the properties."
   ]
  },
  {
   "cell_type": "code",
   "execution_count": 10,
   "id": "7388c064-2710-4c33-a41a-55e5fc1ea5d8",
   "metadata": {},
   "outputs": [
    {
     "name": "stdout",
     "output_type": "stream",
     "text": [
      "Ones Tensor\n",
      "tensor([[1, 1],\n",
      "        [1, 1]])\n"
     ]
    }
   ],
   "source": [
    "x_ones = torch.ones_like(x_data)\n",
    "print(\"Ones Tensor\")\n",
    "print(x_ones)"
   ]
  },
  {
   "cell_type": "code",
   "execution_count": 14,
   "id": "5968f49a-3f0c-4778-bd56-bb0e48f790f2",
   "metadata": {},
   "outputs": [
    {
     "name": "stdout",
     "output_type": "stream",
     "text": [
      "Random Tensor\n",
      "tensor([[0.7347, 0.9293],\n",
      "        [0.2903, 0.3051]], dtype=torch.float64)\n"
     ]
    }
   ],
   "source": [
    "# Change the Tensor contents and convert the datatype from integer to float\n",
    "x_rand = torch.rand_like(x_data, dtype=float)\n",
    "print(\"Random Tensor\")\n",
    "print(x_rand)"
   ]
  },
  {
   "cell_type": "markdown",
   "id": "102ed2ab-3ae1-4729-8e6c-f80913e6dca5",
   "metadata": {},
   "source": [
    "We can use a tuple to define the Tensor's shape"
   ]
  },
  {
   "cell_type": "code",
   "execution_count": 19,
   "id": "e0611f2f-9d2f-48a6-b041-fcfa1ea755eb",
   "metadata": {},
   "outputs": [
    {
     "name": "stdout",
     "output_type": "stream",
     "text": [
      "Random Tensor\n",
      " tensor([[0.3868, 0.6128],\n",
      "        [0.4874, 0.8182],\n",
      "        [0.8620, 0.1196]])\n",
      "Ones Tensor\n",
      " tensor([[1., 1.],\n",
      "        [1., 1.],\n",
      "        [1., 1.]])\n",
      "Zeros Tensor\n",
      " tensor([[0., 0.],\n",
      "        [0., 0.],\n",
      "        [0., 0.]])\n"
     ]
    }
   ],
   "source": [
    "shape = (3,2)\n",
    "rand_tensor = torch.rand(shape)\n",
    "ones_tensor = torch.ones(shape)\n",
    "zeros_tensor = torch.zeros(shape)\n",
    "\n",
    "print(\"Random Tensor\\n\", rand_tensor)\n",
    "print(\"Ones Tensor\\n\", ones_tensor)\n",
    "print(\"Zeros Tensor\\n\", zeros_tensor)"
   ]
  },
  {
   "cell_type": "markdown",
   "id": "2788a34d-9f72-4950-89e1-0312dac269b6",
   "metadata": {},
   "source": [
    "We can print the attributes of a Tensor"
   ]
  },
  {
   "cell_type": "code",
   "execution_count": 47,
   "id": "3908c646-6919-487d-9139-99c5d384d53c",
   "metadata": {},
   "outputs": [
    {
     "name": "stdout",
     "output_type": "stream",
     "text": [
      "tensor([[2, 2, 1],\n",
      "        [5, 6, 2]])\n",
      "Shape:  torch.Size([2, 3])\n",
      "Datatype:  torch.int64\n",
      "Device:  cpu\n"
     ]
    }
   ],
   "source": [
    "tensor = torch.randint(low=0, high=10, size=(2,3))\n",
    "print(tensor)\n",
    "print(\"Shape: \", tensor.shape)\n",
    "print(\"Datatype: \", tensor.dtype)\n",
    "# The device where the Tensor is stored at\n",
    "print(\"Device: \", tensor.device)"
   ]
  },
  {
   "cell_type": "markdown",
   "id": "2aa79426-4823-41f5-bf0f-537650477e4f",
   "metadata": {},
   "source": [
    "## Operations on Tensors\n",
    "If a GPU is available, we can copy the Tensor to a GPU"
   ]
  },
  {
   "cell_type": "code",
   "execution_count": 48,
   "id": "b863f2f5-5c15-437a-9acc-d748e2327a3c",
   "metadata": {},
   "outputs": [
    {
     "name": "stdout",
     "output_type": "stream",
     "text": [
      "GPU available:  False\n"
     ]
    }
   ],
   "source": [
    "print(\"GPU available: \", torch.cuda.is_available())"
   ]
  },
  {
   "cell_type": "code",
   "execution_count": 49,
   "id": "4a9b0521-b152-4571-99de-e4b21918b2c3",
   "metadata": {},
   "outputs": [
    {
     "name": "stdout",
     "output_type": "stream",
     "text": [
      "Is Tensor:  True\n"
     ]
    }
   ],
   "source": [
    "print(\"Is Tensor: \", torch.is_tensor(tensor))"
   ]
  },
  {
   "cell_type": "code",
   "execution_count": 50,
   "id": "871033d8-9800-44c2-8fd8-e0a710843e32",
   "metadata": {},
   "outputs": [
    {
     "name": "stdout",
     "output_type": "stream",
     "text": [
      "tensor(6)\n"
     ]
    }
   ],
   "source": [
    "print(torch.max(tensor))"
   ]
  },
  {
   "cell_type": "code",
   "execution_count": 51,
   "id": "4344141e-2acf-4985-b4c3-debc615263ea",
   "metadata": {},
   "outputs": [
    {
     "data": {
      "text/plain": [
       "tensor([[-0.4161, -0.4161,  0.5403],\n",
       "        [ 0.2837,  0.9602, -0.4161]])"
      ]
     },
     "execution_count": 51,
     "metadata": {},
     "output_type": "execute_result"
    }
   ],
   "source": [
    "# Returns a new Tensor where cosine of every element is taken in the original\n",
    "torch.cos(tensor)"
   ]
  },
  {
   "cell_type": "code",
   "execution_count": 52,
   "id": "4fd4c6de-321b-4f40-b9c8-23b59aa18150",
   "metadata": {},
   "outputs": [
    {
     "data": {
      "text/plain": [
       "tensor([[2, 2, 1, 2, 2, 1],\n",
       "        [5, 6, 2, 5, 6, 2]])"
      ]
     },
     "execution_count": 52,
     "metadata": {},
     "output_type": "execute_result"
    }
   ],
   "source": [
    "# Combine tensors\n",
    "t1 = torch.cat([tensor, tensor], dim=1)\n",
    "t1"
   ]
  },
  {
   "cell_type": "code",
   "execution_count": 53,
   "id": "23b9fab6-e366-4c57-ab24-f128c78127b0",
   "metadata": {},
   "outputs": [
    {
     "data": {
      "text/plain": [
       "tensor([[ 9, 24],\n",
       "        [24, 65]])"
      ]
     },
     "execution_count": 53,
     "metadata": {},
     "output_type": "execute_result"
    }
   ],
   "source": [
    "# Matrix multiplication\n",
    "# Can also use matrix.matmul()\n",
    "y1 = tensor @ tensor.T\n",
    "y1"
   ]
  },
  {
   "cell_type": "code",
   "execution_count": 54,
   "id": "e5e58244-3f87-4443-b6fe-5fda9e66fec2",
   "metadata": {},
   "outputs": [
    {
     "data": {
      "text/plain": [
       "tensor([[ 4,  4,  1],\n",
       "        [25, 36,  4]])"
      ]
     },
     "execution_count": 54,
     "metadata": {},
     "output_type": "execute_result"
    }
   ],
   "source": [
    "# Element-wise multiplication\n",
    "y2 = tensor * tensor\n",
    "y2"
   ]
  },
  {
   "cell_type": "code",
   "execution_count": 55,
   "id": "9fb86af4-21d4-44fb-89ba-c713f73ee270",
   "metadata": {},
   "outputs": [
    {
     "name": "stdout",
     "output_type": "stream",
     "text": [
      "tensor(18)\n",
      "18\n"
     ]
    }
   ],
   "source": [
    "# Convert the value of a single-element Tensor into a Python numerical value\n",
    "agg = tensor.sum()\n",
    "print(agg)\n",
    "print(agg.item())"
   ]
  },
  {
   "cell_type": "code",
   "execution_count": 57,
   "id": "ec2cb753-314f-4a3d-a30f-9cedcb8f5315",
   "metadata": {},
   "outputs": [
    {
     "name": "stdout",
     "output_type": "stream",
     "text": [
      "tensor([[2, 2, 1],\n",
      "        [5, 6, 2]])\n"
     ]
    },
    {
     "data": {
      "text/plain": [
       "tensor([[3, 3, 2],\n",
       "        [6, 7, 3]])"
      ]
     },
     "execution_count": 57,
     "metadata": {},
     "output_type": "execute_result"
    }
   ],
   "source": [
    "# In-place operators are denoted by the suffix `_`\n",
    "print(tensor)\n",
    "tensor.add_(1)"
   ]
  },
  {
   "cell_type": "markdown",
   "id": "1bf69c8a-2458-4b4b-ac53-c4e07e41a547",
   "metadata": {},
   "source": [
    "## Bridge with Numpy\n",
    "Tensors and Numpy arrays can share their memory locations. Modifying one will update the other."
   ]
  },
  {
   "cell_type": "code",
   "execution_count": 64,
   "id": "460d617b-17bd-4dad-8468-af7cbe94035d",
   "metadata": {},
   "outputs": [
    {
     "name": "stdout",
     "output_type": "stream",
     "text": [
      "Tensor tensor([1., 1., 1.])\n",
      "Numpy [1. 1. 1.]\n"
     ]
    }
   ],
   "source": [
    "t = torch.ones(3)\n",
    "print(\"Tensor\", t)\n",
    "n = t.numpy()\n",
    "print(\"Numpy\", n)"
   ]
  },
  {
   "cell_type": "code",
   "execution_count": 65,
   "id": "8ff47b44-a566-4d7d-b887-deb4b5a93521",
   "metadata": {},
   "outputs": [
    {
     "name": "stdout",
     "output_type": "stream",
     "text": [
      "Tensor tensor([2., 2., 2.])\n",
      "Numpy [2. 2. 2.]\n"
     ]
    }
   ],
   "source": [
    "t.add_(1)\n",
    "print(\"Tensor\", t)\n",
    "print(\"Numpy\", n)"
   ]
  },
  {
   "cell_type": "code",
   "execution_count": null,
   "id": "d94c364f-9505-411b-b74b-016b5c154130",
   "metadata": {},
   "outputs": [],
   "source": []
  }
 ],
 "metadata": {
  "kernelspec": {
   "display_name": "Python 3 (ipykernel)",
   "language": "python",
   "name": "python3"
  },
  "language_info": {
   "codemirror_mode": {
    "name": "ipython",
    "version": 3
   },
   "file_extension": ".py",
   "mimetype": "text/x-python",
   "name": "python",
   "nbconvert_exporter": "python",
   "pygments_lexer": "ipython3",
   "version": "3.9.6"
  }
 },
 "nbformat": 4,
 "nbformat_minor": 5
}
