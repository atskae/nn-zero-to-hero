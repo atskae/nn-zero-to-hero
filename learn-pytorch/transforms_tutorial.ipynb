{
 "cells": [
  {
   "cell_type": "markdown",
   "id": "7bde64a0-ed9d-4eeb-a501-c988fd3de176",
   "metadata": {},
   "source": [
    "# [Transforms](https://pytorch.org/tutorials/beginner/basics/transforms_tutorial.html)\n",
    "\n",
    "**Transforms** are applied to the data so that the data is suitable for training.\n",
    "\n",
    "Two parameters for TorchVision datasets:\n",
    "* `transform`: modify the features\n",
    "* `target_transform`: modify the labels\n",
    "\n",
    "You pass in a callable containing the transformation logic."
   ]
  },
  {
   "cell_type": "code",
   "execution_count": 3,
   "id": "972df12a-fad0-4a6e-a281-7c6e66e7af62",
   "metadata": {},
   "outputs": [],
   "source": [
    "import torch\n",
    "from torchvision import datasets\n",
    "from torchvision.transforms import ToTensor, Lambda\n",
    "\n",
    "# Number of label types in the dataset\n",
    "num_labels = 10\n",
    "# How the labels are transformed\n",
    "# The labels need to be encoded as one-hot encoded tensors\n",
    "# `scatter_` assigns a value=1 on the index given by `y`\n",
    "target_transform = Lambda(\n",
    "    lambda y: torch.zeros(num_labels, dtype=torch.float).scatter_(dim=0, index=torch.tensor(y), value=1)\n",
    ")\n",
    "ds = datasets.FashionMNIST(\n",
    "    root=\"data\",\n",
    "    train=True,\n",
    "    download=True,\n",
    "    transform=ToTensor(), # features as normalized tensors\n",
    "    target_transform=target_transform\n",
    ")"
   ]
  },
  {
   "cell_type": "markdown",
   "id": "a785901c-49ce-44f9-a451-2bd15e1e93e4",
   "metadata": {},
   "source": [
    "## `ToTensor()`\n",
    "`ToTensor()` converts a PIL Image or NumPy array into a `FloatTensor` and scales the pixel's intensity values between `[0, 1]`"
   ]
  },
  {
   "cell_type": "markdown",
   "id": "4e8835d2-0248-4dc5-9138-af9205a00d4d",
   "metadata": {},
   "source": [
    "## Lambda Transforms\n",
    "`Lambda` takes in a user-defined transform"
   ]
  },
  {
   "cell_type": "code",
   "execution_count": null,
   "id": "fa74a760-0628-46c2-91da-80450c156a7c",
   "metadata": {},
   "outputs": [],
   "source": []
  }
 ],
 "metadata": {
  "kernelspec": {
   "display_name": "Python 3 (ipykernel)",
   "language": "python",
   "name": "python3"
  },
  "language_info": {
   "codemirror_mode": {
    "name": "ipython",
    "version": 3
   },
   "file_extension": ".py",
   "mimetype": "text/x-python",
   "name": "python",
   "nbconvert_exporter": "python",
   "pygments_lexer": "ipython3",
   "version": "3.9.6"
  }
 },
 "nbformat": 4,
 "nbformat_minor": 5
}
